{
 "metadata": {
  "name": "",
  "signature": "sha256:3ba4224dbd51affdf5f716893d392bf04f8f7e635a06e975c5e840949e9debd5"
 },
 "nbformat": 3,
 "nbformat_minor": 0,
 "worksheets": [
  {
   "cells": [
    {
     "cell_type": "code",
     "collapsed": false,
     "input": [
      "import pandas as pd\n",
      "import numpy as np\n",
      "import matplotlib.pyplot as plt\n",
      "\n",
      "pd.options.display.mpl_style = 'default'\n",
      "%matplotlib inline"
     ],
     "language": "python",
     "metadata": {},
     "outputs": [],
     "prompt_number": 285
    },
    {
     "cell_type": "code",
     "collapsed": false,
     "input": [
      "results_f = \"./evaluation/results.csv\"\n",
      "results = pd.read_csv(results_f, sep=\",\")\n",
      "\n",
      "sph = results[results.Title.str.startswith(\"sphere\")]\n",
      "uni = results[results.Title.str.startswith(\"normal\")]"
     ],
     "language": "python",
     "metadata": {},
     "outputs": [],
     "prompt_number": 289
    },
    {
     "cell_type": "code",
     "collapsed": false,
     "input": [
      "sph_p = sph.pivot_table(index='Dimension', columns='Algorithm', values=['mean distance', 'std distance'])\n",
      "#err_p = sph.pivot_table(index='Dimension', columns='Algorithm', values='std distance')\n",
      "ax = sph_p['mean distance'].plot(kind='bar', title=\"Mean distance\")\n",
      "#sph_p['std distance'].plot(kind='bar', title=\"std distance\")\n",
      "#ax.set_yscale(\"symlog\")\n",
      "sph_p"
     ],
     "language": "python",
     "metadata": {},
     "outputs": [
      {
       "html": [
        "<div style=\"max-height:1000px;max-width:1500px;overflow:auto;\">\n",
        "<table border=\"1\" class=\"dataframe\">\n",
        "  <thead>\n",
        "    <tr>\n",
        "      <th></th>\n",
        "      <th colspan=\"3\" halign=\"left\">mean distance</th>\n",
        "      <th colspan=\"3\" halign=\"left\">std distance</th>\n",
        "    </tr>\n",
        "    <tr>\n",
        "      <th>Algorithm</th>\n",
        "      <th>IteratedRadon</th>\n",
        "      <th>IteratedRadon (w/ Trees)</th>\n",
        "      <th>IteratedTverberg</th>\n",
        "      <th>IteratedRadon</th>\n",
        "      <th>IteratedRadon (w/ Trees)</th>\n",
        "      <th>IteratedTverberg</th>\n",
        "    </tr>\n",
        "    <tr>\n",
        "      <th>Dimension</th>\n",
        "      <th></th>\n",
        "      <th></th>\n",
        "      <th></th>\n",
        "      <th></th>\n",
        "      <th></th>\n",
        "      <th></th>\n",
        "    </tr>\n",
        "  </thead>\n",
        "  <tbody>\n",
        "    <tr>\n",
        "      <th>3</th>\n",
        "      <td> 3.086480</td>\n",
        "      <td> 9.941178</td>\n",
        "      <td> 1.933891</td>\n",
        "      <td> 2.628061</td>\n",
        "      <td> 6.089605</td>\n",
        "      <td> 1.933891</td>\n",
        "    </tr>\n",
        "    <tr>\n",
        "      <th>6</th>\n",
        "      <td> 0.886649</td>\n",
        "      <td> 2.816605</td>\n",
        "      <td> 4.116858</td>\n",
        "      <td> 0.805683</td>\n",
        "      <td> 2.078309</td>\n",
        "      <td> 4.116858</td>\n",
        "    </tr>\n",
        "    <tr>\n",
        "      <th>9</th>\n",
        "      <td>      NaN</td>\n",
        "      <td> 1.272409</td>\n",
        "      <td> 3.215282</td>\n",
        "      <td>      NaN</td>\n",
        "      <td> 1.118453</td>\n",
        "      <td> 3.215282</td>\n",
        "    </tr>\n",
        "  </tbody>\n",
        "</table>\n",
        "</div>"
       ],
       "metadata": {},
       "output_type": "pyout",
       "prompt_number": 290,
       "text": [
        "           mean distance                                              \\\n",
        "Algorithm  IteratedRadon  IteratedRadon (w/ Trees)  IteratedTverberg   \n",
        "Dimension                                                              \n",
        "3               3.086480                  9.941178          1.933891   \n",
        "6               0.886649                  2.816605          4.116858   \n",
        "9                    NaN                  1.272409          3.215282   \n",
        "\n",
        "            std distance                                              \n",
        "Algorithm  IteratedRadon  IteratedRadon (w/ Trees)  IteratedTverberg  \n",
        "Dimension                                                             \n",
        "3               2.628061                  6.089605          1.933891  \n",
        "6               0.805683                  2.078309          4.116858  \n",
        "9                    NaN                  1.118453          3.215282  "
       ]
      },
      {
       "metadata": {},
       "output_type": "display_data",
       "png": "[encoded data removed]",
       "text": [
        "<matplotlib.figure.Figure at 0x7f307c7af2e8>"
       ]
      }
     ],
     "prompt_number": 290
    },
    {
     "cell_type": "code",
     "collapsed": false,
     "input": [
      "sph_p = sph.pivot_table(index='Dimension', columns='Algorithm', values='min time')\n",
      "ax = sph_p.plot(kind='bar', title=\"Min time\")\n",
      "ax.set_ylabel(\"time in s\")\n",
      "sph_p"
     ],
     "language": "python",
     "metadata": {},
     "outputs": [
      {
       "html": [
        "<div style=\"max-height:1000px;max-width:1500px;overflow:auto;\">\n",
        "<table border=\"1\" class=\"dataframe\">\n",
        "  <thead>\n",
        "    <tr style=\"text-align: right;\">\n",
        "      <th>Algorithm</th>\n",
        "      <th>IteratedRadon</th>\n",
        "      <th>IteratedRadon (w/ Trees)</th>\n",
        "      <th>IteratedTverberg</th>\n",
        "    </tr>\n",
        "    <tr>\n",
        "      <th>Dimension</th>\n",
        "      <th></th>\n",
        "      <th></th>\n",
        "      <th></th>\n",
        "    </tr>\n",
        "  </thead>\n",
        "  <tbody>\n",
        "    <tr>\n",
        "      <th>3</th>\n",
        "      <td>  5.974904</td>\n",
        "      <td> 0.031583</td>\n",
        "      <td> 1.373222</td>\n",
        "    </tr>\n",
        "    <tr>\n",
        "      <th>6</th>\n",
        "      <td> 10.832119</td>\n",
        "      <td> 0.143042</td>\n",
        "      <td> 0.209310</td>\n",
        "    </tr>\n",
        "    <tr>\n",
        "      <th>9</th>\n",
        "      <td>       NaN</td>\n",
        "      <td> 0.438087</td>\n",
        "      <td> 0.552010</td>\n",
        "    </tr>\n",
        "  </tbody>\n",
        "</table>\n",
        "</div>"
       ],
       "metadata": {},
       "output_type": "pyout",
       "prompt_number": 291,
       "text": [
        "Algorithm  IteratedRadon  IteratedRadon (w/ Trees)  IteratedTverberg\n",
        "Dimension                                                           \n",
        "3               5.974904                  0.031583          1.373222\n",
        "6              10.832119                  0.143042          0.209310\n",
        "9                    NaN                  0.438087          0.552010"
       ]
      },
      {
       "metadata": {},
       "output_type": "display_data",
       "png": "[encoded data removed]",
       "text": [
        "<matplotlib.figure.Figure at 0x7f307ca520b8>"
       ]
      }
     ],
     "prompt_number": 291
    }
   ],
   "metadata": {}
  }
 ]
}