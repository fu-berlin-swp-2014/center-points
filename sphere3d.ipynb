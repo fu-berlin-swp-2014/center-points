{
 "metadata": {
  "name": "",
  "signature": "sha256:b0d5169138084cced18e1ffe24ecc88b904a5c927a4e7c3c0d805462e3e92e91"
 },
 "nbformat": 3,
 "nbformat_minor": 0,
 "worksheets": [
  {
   "cells": [
    {
     "cell_type": "code",
     "collapsed": false,
     "input": [
      "%reload_ext autoreload\n",
      "%autoreload 2"
     ],
     "language": "python",
     "metadata": {},
     "outputs": [],
     "prompt_number": 5
    },
    {
     "cell_type": "code",
     "collapsed": false,
     "input": [
      "from centerpoints.iterated_tverberg import IteratedTverberg\n",
      "from centerpoints.iterated_radon import IteratedRadon\n",
      "import centerpoints.cli as cli\n",
      "import numpy as np\n",
      "import math\n",
      "from math import cos, sin, pi"
     ],
     "language": "python",
     "metadata": {},
     "outputs": [],
     "prompt_number": 6
    },
    {
     "cell_type": "code",
     "collapsed": false,
     "input": [
      "it = IteratedTverberg()\n",
      "cl = IteratedRadon()\n",
      "cl2 = IteratedRadon(True)"
     ],
     "language": "python",
     "metadata": {},
     "outputs": [],
     "prompt_number": 7
    },
    {
     "cell_type": "code",
     "collapsed": false,
     "input": [
      "import matplotlib\n",
      "matplotlib.use('PDF')\n",
      "import matplotlib.pyplot as plt\n",
      "from mpl_toolkits.mplot3d import Axes3D"
     ],
     "language": "python",
     "metadata": {},
     "outputs": [
      {
       "output_type": "stream",
       "stream": "stderr",
       "text": [
        "/home/jo/.miniconda3/envs/cpts/lib/python3.4/site-packages/matplotlib/__init__.py:1157: UserWarning:  This call to matplotlib.use() has no effect\n",
        "because the backend has already been chosen;\n",
        "matplotlib.use() must be called *before* pylab, matplotlib.pyplot,\n",
        "or matplotlib.backends is imported for the first time.\n",
        "\n",
        "  warnings.warn(_use_error_msg)\n"
       ]
      }
     ],
     "prompt_number": 8
    },
    {
     "cell_type": "code",
     "collapsed": false,
     "input": [
      "with open('./evaluation/sphere-3d-random-50-500.csv') as file:\n",
      "    s = cli.read_points_csv(file, '\\t')\n",
      "    \n",
      "p = it.centerpoint(s)\n",
      "p1 = cl.centerpoint(s)\n",
      "p2 = cl2.centerpoint(s)\n",
      "\n",
      "s = np.asarray(s)\n",
      "\n",
      "fig = plt.figure()\n",
      "ax = fig.add_subplot(111, projection=\"3d\")\n",
      "ax.scatter(s[:,0],s[:,1],s[:,2], c='b', s=15)\n",
      "ax.scatter(*p, s=25, c='red')\n",
      "ax.scatter(*p1, s=25, c='yellow')\n",
      "ax.scatter(*p2, s=25, c='orange')\n",
      "fig.savefig('random_sphere.pdf')"
     ],
     "language": "python",
     "metadata": {},
     "outputs": [
      {
       "ename": "FileNotFoundError",
       "evalue": "[Errno 2] No such file or directory: './evaluation/sphere-3d-random-50-500.csv'",
       "output_type": "pyerr",
       "traceback": [
        "\u001b[1;31m---------------------------------------------------------------------------\u001b[0m\n\u001b[1;31mFileNotFoundError\u001b[0m                         Traceback (most recent call last)",
        "\u001b[1;32m<ipython-input-9-433915db0965>\u001b[0m in \u001b[0;36m<module>\u001b[1;34m()\u001b[0m\n\u001b[1;32m----> 1\u001b[1;33m \u001b[1;32mwith\u001b[0m \u001b[0mopen\u001b[0m\u001b[1;33m(\u001b[0m\u001b[1;34m'./evaluation/sphere-3d-random-50-500.csv'\u001b[0m\u001b[1;33m)\u001b[0m \u001b[1;32mas\u001b[0m \u001b[0mfile\u001b[0m\u001b[1;33m:\u001b[0m\u001b[1;33m\u001b[0m\u001b[0m\n\u001b[0m\u001b[0;32m      2\u001b[0m     \u001b[0ms\u001b[0m \u001b[1;33m=\u001b[0m \u001b[0mcli\u001b[0m\u001b[1;33m.\u001b[0m\u001b[0mread_points_csv\u001b[0m\u001b[1;33m(\u001b[0m\u001b[0mfile\u001b[0m\u001b[1;33m,\u001b[0m \u001b[1;34m'\\t'\u001b[0m\u001b[1;33m)\u001b[0m\u001b[1;33m\u001b[0m\u001b[0m\n\u001b[0;32m      3\u001b[0m \u001b[1;33m\u001b[0m\u001b[0m\n\u001b[0;32m      4\u001b[0m \u001b[0mp\u001b[0m \u001b[1;33m=\u001b[0m \u001b[0mit\u001b[0m\u001b[1;33m.\u001b[0m\u001b[0mcenterpoint\u001b[0m\u001b[1;33m(\u001b[0m\u001b[0ms\u001b[0m\u001b[1;33m)\u001b[0m\u001b[1;33m\u001b[0m\u001b[0m\n\u001b[0;32m      5\u001b[0m \u001b[0mp1\u001b[0m \u001b[1;33m=\u001b[0m \u001b[0mcl\u001b[0m\u001b[1;33m.\u001b[0m\u001b[0mcenterpoint\u001b[0m\u001b[1;33m(\u001b[0m\u001b[0ms\u001b[0m\u001b[1;33m)\u001b[0m\u001b[1;33m\u001b[0m\u001b[0m\n",
        "\u001b[1;31mFileNotFoundError\u001b[0m: [Errno 2] No such file or directory: './evaluation/sphere-3d-random-50-500.csv'"
       ]
      }
     ],
     "prompt_number": 9
    },
    {
     "cell_type": "code",
     "collapsed": false,
     "input": [
      "with open('./evaluation/sphere-3d-50-500.csv') as file:\n",
      "    s = cli.read_points_csv(file, '\\t')\n",
      "    \n",
      "p = it.centerpoint(s)\n",
      "p1 = cl.centerpoint(s)\n",
      "p2 = cl2.centerpoint(s)\n",
      "\n",
      "s = np.asarray(s)\n",
      "\n",
      "fig = plt.figure()\n",
      "ax = fig.add_subplot(111, projection=\"3d\")\n",
      "ax.scatter(s[:,0],s[:,1],s[:,2], c='b', s=15)\n",
      "ax.scatter(*p, s=25, c='red')\n",
      "ax.scatter(*p1, s=25, c='yellow')\n",
      "ax.scatter(*p2, s=25, c='orange')\n",
      "fig.savefig('normal_sphere.pdf')"
     ],
     "language": "python",
     "metadata": {},
     "outputs": []
    },
    {
     "cell_type": "code",
     "collapsed": false,
     "input": [
      "with open('./evaluation/sphere-2d-50-500.csv') as file:\n",
      "    s = cli.read_points_csv(file, '\\t')\n",
      "    \n",
      "p = it.centerpoint(s)\n",
      "p1 = cl.centerpoint(s)\n",
      "p2 = cl2.centerpoint(s)\n",
      "\n",
      "s = np.asarray(s)\n",
      "\n",
      "fig = plt.figure()\n",
      "ax = fig.add_subplot(111, projection=\"3d\")\n",
      "ax.scatter(s[:,0],s[:,1], c='b', s=15)\n",
      "ax.scatter(*p, s=25, c='red')\n",
      "ax.scatter(*p1, s=25, c='yellow')\n",
      "ax.scatter(*p2, s=25, c='orange')\n",
      "fig.savefig('ring.pdf')"
     ],
     "language": "python",
     "metadata": {},
     "outputs": []
    }
   ],
   "metadata": {}
  }
 ]
}